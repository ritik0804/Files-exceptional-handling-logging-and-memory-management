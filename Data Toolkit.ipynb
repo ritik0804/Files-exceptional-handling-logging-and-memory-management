{
  "cells": [
    {
      "cell_type": "markdown",
      "source": [
        "#Theory Questions"
      ],
      "metadata": {
        "id": "FwJ0J5BvdQ-E"
      }
    },
    {
      "cell_type": "markdown",
      "source": [
        "1. What is NumPy, and why is it widely used in Python?\n",
        "-->NumPy is a powerful library for numerical computing in Python. It provides efficient array operations, mathematical functions, and supports high-performance multi-dimensional data processing."
      ],
      "metadata": {
        "id": "WoceqOkcXni7"
      }
    },
    {
      "cell_type": "markdown",
      "source": [
        "2. How does broadcasting work in NumPy?\n",
        "-->Broadcasting allows operations between arrays of different shapes by automatically expanding the smaller array to match the larger one without copying data."
      ],
      "metadata": {
        "id": "sAwj9CckXnfo"
      }
    },
    {
      "cell_type": "markdown",
      "source": [
        "3. What is a Pandas DataFrame?\n",
        "-->A DataFrame is a 2D labeled data structure in Pandas, similar to a table in SQL or Excel, with rows and columns for easy data manipulation and analysis."
      ],
      "metadata": {
        "id": "0dOy2LJOXnc-"
      }
    },
    {
      "cell_type": "markdown",
      "source": [
        "4. Explain the use of the groupby() method in Pandas.\n",
        "-->Groupby() splits data into groups based on some criteria, applies a function (like sum, mean), and then combines the results, useful for aggregation and analysis."
      ],
      "metadata": {
        "id": "gsSsDpe9Xnaf"
      }
    },
    {
      "cell_type": "markdown",
      "source": [
        "5. Why is Seaborn preferred for statistical visualizations?\n",
        "-->Seaborn provides attractive, high-level interfaces for drawing informative and beautiful statistical graphics with less code than Matplotlib."
      ],
      "metadata": {
        "id": "-KOKOj6wXnXb"
      }
    },
    {
      "cell_type": "markdown",
      "source": [
        "6. What are the differences between NumPy arrays and Python lists?\n",
        "-->NumPy arrays are faster, use less memory, and support vectorized operations, while Python lists are more flexible but slower and not suited for numerical computation."
      ],
      "metadata": {
        "id": "yJ-RjDP6XnUu"
      }
    },
    {
      "cell_type": "markdown",
      "source": [
        "7. What is a heatmap, and when should it be used?\n",
        "-->A heatmap is a 2D graphical representation of data where values are represented by color, useful for showing correlation matrices and patterns in data."
      ],
      "metadata": {
        "id": "Jt2fXtTXXnRx"
      }
    },
    {
      "cell_type": "markdown",
      "source": [
        "8. What does the term “vectorized operation” mean in NumPy?\n",
        "-->It refers to performing operations on entire arrays without explicit loops, which is faster and more efficient due to underlying C optimizations."
      ],
      "metadata": {
        "id": "RCxd0JhuXnPA"
      }
    },
    {
      "cell_type": "markdown",
      "source": [
        "9. How does Matplotlib differ from Plotly?\n",
        "-->Matplotlib is static and widely used for traditional plots; Plotly creates interactive, web-friendly visualizations with zoom and hover features."
      ],
      "metadata": {
        "id": "s8KBjQtOXnMX"
      }
    },
    {
      "cell_type": "markdown",
      "source": [
        "10. What is the significance of hierarchical indexing in Pandas?\n",
        "-->Hierarchical indexing allows multiple levels of indexing on rows or columns, enabling more complex data structures and flexible data access."
      ],
      "metadata": {
        "id": "wpPeEeSqXnJT"
      }
    },
    {
      "cell_type": "markdown",
      "source": [
        "11. What is the role of Seaborn’s pairplot() function?\n",
        "-->pairplot() creates scatter plots for all numeric variable pairs in a dataset, helpful for exploring relationships and distributions at once."
      ],
      "metadata": {
        "id": "SotyGi5tXnGk"
      }
    },
    {
      "cell_type": "markdown",
      "source": [
        "12. What is the purpose of the describe() function in Pandas?\n",
        "-->describe() provides summary statistics (mean, count, std, etc.) for each numeric column, giving a quick overview of the dataset."
      ],
      "metadata": {
        "id": "JMZQgofhXnDj"
      }
    },
    {
      "cell_type": "markdown",
      "source": [
        "13. Why is handling missing data important in Pandas?\n",
        "-->Missing data can skew analysis or cause errors; Pandas provides methods to detect, fill, or drop missing values to maintain data integrity."
      ],
      "metadata": {
        "id": "-fVzzIGeXnAr"
      }
    },
    {
      "cell_type": "markdown",
      "source": [
        "14. What are the benefits of using Plotly for data visualization?\n",
        "-->Plotly offers interactive, web-ready visualizations, supports dashboards, and handles complex chart types with ease, ideal for presentations."
      ],
      "metadata": {
        "id": "R8R6EDLQXm9y"
      }
    },
    {
      "cell_type": "markdown",
      "source": [
        "15. How does NumPy handle multidimensional arrays?\n",
        "-->NumPy uses the ndarray object to support N-dimensional arrays with efficient storage, indexing, and broadcasting capabilities."
      ],
      "metadata": {
        "id": "wTCTSd2_Xm6x"
      }
    },
    {
      "cell_type": "markdown",
      "source": [
        "16. What is the role of Bokeh in data visualization?\n",
        "-->Bokeh is a Python library for creating interactive, browser-based visualizations with ease, especially useful for dashboards and web apps."
      ],
      "metadata": {
        "id": "QC7JQlwtXm4F"
      }
    },
    {
      "cell_type": "markdown",
      "source": [
        "17. Explain the difference between apply() and map() in Pandas.\n",
        "-->map() is used for element-wise operations on Series, while apply() works on rows or columns in DataFrames or Series for more complex functions."
      ],
      "metadata": {
        "id": "XbVU7jFDXm2N"
      }
    },
    {
      "cell_type": "markdown",
      "source": [
        "18. What are some advanced features of NumPy?\n",
        "-->NumPy supports linear algebra, Fourier transforms, random number generation, and memory-mapped arrays for large data processing."
      ],
      "metadata": {
        "id": "uF0bRBNnXmyM"
      }
    },
    {
      "cell_type": "markdown",
      "source": [
        "19. How does Pandas simplify time series analysis?\n",
        "-->Pandas provides powerful time series tools like resampling, time-based indexing, date range generation, and rolling window operations."
      ],
      "metadata": {
        "id": "dVP3hDukXmvh"
      }
    },
    {
      "cell_type": "markdown",
      "source": [
        "20. What is the role of a pivot table in Pandas?\n",
        "-->Pivot tables summarize data by reorganizing it based on categories, allowing aggregation and comparison across different dimensions."
      ],
      "metadata": {
        "id": "DGIfj7eaXmsw"
      }
    },
    {
      "cell_type": "markdown",
      "source": [
        "21. Why is NumPy’s array slicing faster than Python’s list slicing?\n",
        "-->NumPy slices return views (not copies) and use efficient C-level memory access, making operations significantly faster than Python lists."
      ],
      "metadata": {
        "id": "fqW1oil4Xmp1"
      }
    },
    {
      "cell_type": "markdown",
      "source": [
        "22. What are some common use cases for Seaborn?\n",
        "-->Seaborn is commonly used for visualizing distributions, correlations, regression plots, categorical plots, and statistical relationships.\n",
        "\n"
      ],
      "metadata": {
        "id": "IM_YBkO9XmnP"
      }
    },
    {
      "cell_type": "markdown",
      "source": [
        "#Practical Questions"
      ],
      "metadata": {
        "id": "6g1KQtaCXmkF"
      }
    },
    {
      "cell_type": "markdown",
      "source": [
        "1. How do you create a 2D NumPy array and calculate the sum of each row?"
      ],
      "metadata": {
        "id": "pwXQ7vlhbnH4"
      }
    },
    {
      "cell_type": "code",
      "source": [
        "import numpy as np\n",
        "\n",
        "arr = np.array([[1, 2, 3], [4, 5, 6]])\n",
        "row_sums = np.sum(arr, axis=1)\n",
        "print(row_sums)"
      ],
      "metadata": {
        "id": "Pr_Gm4Pgbm4T"
      },
      "execution_count": 1,
      "outputs": []
    },
    {
      "cell_type": "markdown",
      "source": [
        "2. Write a Pandas script to find the mean of a specific column in a DataFrame"
      ],
      "metadata": {
        "id": "x2odTtGDbjh_"
      }
    },
    {
      "cell_type": "code",
      "source": [
        "df = pd.DataFrame({'Scores': [85, 90, 78, 92]})\n",
        "mean_score = df['Scores'].mean()\n",
        "print(mean_score)"
      ],
      "metadata": {
        "id": "LjXWstqNbjQ1"
      },
      "execution_count": null,
      "outputs": []
    },
    {
      "cell_type": "markdown",
      "source": [
        "3. Create a scatter plot using Matplotlib"
      ],
      "metadata": {
        "id": "6U8PcXYnbjCM"
      }
    },
    {
      "cell_type": "code",
      "source": [
        "x = [1, 2, 3, 4]\n",
        "y = [10, 20, 25, 30]\n",
        "plt.scatter(x, y)\n",
        "plt.title(\"Scatter Plot\")\n",
        "plt.xlabel(\"X-axis\")\n",
        "plt.ylabel(\"Y-axis\")\n",
        "plt.show()"
      ],
      "metadata": {
        "id": "blck8kI8biy3"
      },
      "execution_count": null,
      "outputs": []
    },
    {
      "cell_type": "markdown",
      "source": [
        "4. How do you calculate the correlation matrix using Seaborn and visualize it with a heatmap?"
      ],
      "metadata": {
        "id": "JUjXzg3jbijN"
      }
    },
    {
      "cell_type": "code",
      "source": [
        "df = pd.DataFrame({\n",
        "    'A': [1, 2, 3, 4],\n",
        "    'B': [4, 3, 2, 1],\n",
        "    'C': [5, 6, 7, 8]\n",
        "})\n",
        "corr = df.corr()\n",
        "sns.heatmap(corr, annot=True, cmap='coolwarm')\n",
        "plt.title(\"Correlation Heatmap\")\n",
        "plt.show()\n"
      ],
      "metadata": {
        "id": "Sks0GWmZbiSE"
      },
      "execution_count": null,
      "outputs": []
    },
    {
      "cell_type": "markdown",
      "source": [
        "5. Generate a bar plot using Plotly"
      ],
      "metadata": {
        "id": "05FrueT-biDe"
      }
    },
    {
      "cell_type": "code",
      "source": [
        "df = pd.DataFrame({'Fruit': ['Apple', 'Banana', 'Cherry'], 'Count': [10, 20, 15]})\n",
        "fig = px.bar(df, x='Fruit', y='Count', title='Fruit Count')\n",
        "fig.show()\n"
      ],
      "metadata": {
        "id": "2MANp_IBbhy-"
      },
      "execution_count": null,
      "outputs": []
    },
    {
      "cell_type": "markdown",
      "source": [
        "6. Create a DataFrame and add a new column based on an existing column"
      ],
      "metadata": {
        "id": "NcgTN5r6bhj3"
      }
    },
    {
      "cell_type": "code",
      "source": [
        "df = pd.DataFrame({'Score': [70, 80, 90]})\n",
        "df['Passed'] = df['Score'] > 75\n",
        "print(df)\n"
      ],
      "metadata": {
        "id": "t_k3ioJybg0U"
      },
      "execution_count": null,
      "outputs": []
    },
    {
      "cell_type": "markdown",
      "source": [
        "7. Write a program to perform element-wise multiplication of two NumPy arrays"
      ],
      "metadata": {
        "id": "bgAZmtwmbglg"
      }
    },
    {
      "cell_type": "code",
      "source": [
        "a = np.array([1, 2, 3])\n",
        "b = np.array([4, 5, 6])\n",
        "result = a * b\n",
        "print(result)\n"
      ],
      "metadata": {
        "id": "HTiyfZAibgYp"
      },
      "execution_count": null,
      "outputs": []
    },
    {
      "cell_type": "markdown",
      "source": [
        "8. Create a line plot with multiple lines using Matplotlib"
      ],
      "metadata": {
        "id": "JTBzL9CnbgHe"
      }
    },
    {
      "cell_type": "code",
      "source": [
        "x = [1, 2, 3, 4]\n",
        "y1 = [10, 15, 20, 25]\n",
        "y2 = [5, 10, 15, 20]\n",
        "\n",
        "plt.plot(x, y1, label='Line 1')\n",
        "plt.plot(x, y2, label='Line 2')\n",
        "plt.xlabel(\"X-axis\")\n",
        "plt.ylabel(\"Y-axis\")\n",
        "plt.legend()\n",
        "plt.title(\"Multiple Lines\")\n",
        "plt.show()\n"
      ],
      "metadata": {
        "id": "hjJcquK0bf4R"
      },
      "execution_count": null,
      "outputs": []
    },
    {
      "cell_type": "markdown",
      "source": [
        "9. Generate a Pandas DataFrame and filter rows where a column value is greater than a threshold"
      ],
      "metadata": {
        "id": "JC71JngPbff2"
      }
    },
    {
      "cell_type": "code",
      "source": [
        "df = pd.DataFrame({'Age': [18, 25, 30, 17]})\n",
        "filtered_df = df[df['Age'] > 20]\n",
        "print(filtered_df)"
      ],
      "metadata": {
        "id": "m0Y1BP-SbRxA"
      },
      "execution_count": null,
      "outputs": []
    },
    {
      "cell_type": "markdown",
      "source": [
        "10. Create a histogram using Seaborn to visualize a distribution"
      ],
      "metadata": {
        "id": "IyJ1jRV4czRp"
      }
    },
    {
      "cell_type": "code",
      "source": [
        "data = [10, 20, 20, 30, 40, 50, 60, 70]\n",
        "sns.histplot(data, bins=5, kde=True)\n",
        "plt.title(\"Histogram with KDE\")\n",
        "plt.show()"
      ],
      "metadata": {
        "id": "DO0ncA8qczAn"
      },
      "execution_count": null,
      "outputs": []
    },
    {
      "cell_type": "markdown",
      "source": [
        "11. Perform matrix multiplication using NumPy"
      ],
      "metadata": {
        "id": "1e3oY6Ducy3I"
      }
    },
    {
      "cell_type": "code",
      "source": [
        "a = np.array([[1, 2], [3, 4]])\n",
        "b = np.array([[5, 6], [7, 8]])\n",
        "product = np.dot(a, b)\n",
        "print(product)"
      ],
      "metadata": {
        "id": "czJOS932cys5"
      },
      "execution_count": null,
      "outputs": []
    },
    {
      "cell_type": "markdown",
      "source": [
        "12. Use Pandas to load a CSV file and display its first 5 rows"
      ],
      "metadata": {
        "id": "dQpaafJtcyg9"
      }
    },
    {
      "cell_type": "code",
      "source": [
        "df = pd.read_csv('your_file.csv')  # replace with actual file path\n",
        "print(df.head())"
      ],
      "metadata": {
        "id": "fT2Z2iKmcyRi"
      },
      "execution_count": null,
      "outputs": []
    },
    {
      "cell_type": "markdown",
      "source": [
        "13. Create a 3D scatter plot using Plotly"
      ],
      "metadata": {
        "id": "3vc4gJa_dC_h"
      }
    },
    {
      "cell_type": "code",
      "source": [
        "df = pd.DataFrame({\n",
        "    'x': [1, 2, 3, 4],\n",
        "    'y': [10, 20, 25, 30],\n",
        "    'z': [5, 15, 20, 35]\n",
        "})\n",
        "fig = px.scatter_3d(df, x='x', y='y', z='z', title='3D Scatter Plot')\n",
        "fig.show()"
      ],
      "metadata": {
        "id": "8rbN3C_UdCGA"
      },
      "execution_count": null,
      "outputs": []
    },
    {
      "cell_type": "markdown",
      "source": [],
      "metadata": {
        "id": "6Qblw2dFdB2H"
      }
    }
  ],
  "metadata": {
    "colab": {
      "name": "Welcome to Colab",
      "provenance": []
    },
    "kernelspec": {
      "display_name": "Python 3",
      "name": "python3"
    }
  },
  "nbformat": 4,
  "nbformat_minor": 0
}