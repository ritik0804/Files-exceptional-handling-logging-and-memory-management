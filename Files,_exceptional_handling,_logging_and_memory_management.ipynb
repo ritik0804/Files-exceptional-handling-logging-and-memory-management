{
  "nbformat": 4,
  "nbformat_minor": 0,
  "metadata": {
    "colab": {
      "provenance": []
    },
    "kernelspec": {
      "name": "python3",
      "display_name": "Python 3"
    },
    "language_info": {
      "name": "python"
    }
  },
  "cells": [
    {
      "cell_type": "markdown",
      "source": [
        "#Files, exceptional handling, logging and memory management Questions"
      ],
      "metadata": {
        "id": "aiopAD-Vqmp7"
      }
    },
    {
      "cell_type": "markdown",
      "source": [
        "1. What is the difference between interpreted and compiled languages?\n",
        "\n",
        "--> Interpreted languages: Code is executed line by line by an interpreter (e.g., Python).\n",
        "\n",
        "Compiled languages: Code is translated into machine code by a compiler before execution (e.g., C, C++).\n",
        "Key Difference: Interpreted languages are usually more flexible but slower; compiled languages often run faster."
      ],
      "metadata": {
        "id": "0TqcuKjVl5AW"
      }
    },
    {
      "cell_type": "markdown",
      "source": [
        "2. What is exception handling in Python?\n",
        "\n",
        "--> A mechanism to catch and handle runtime errors to prevent program crashes.\n",
        "Uses try, except, else, and finally blocks."
      ],
      "metadata": {
        "id": "Y6bl_E1Ml48Y"
      }
    },
    {
      "cell_type": "markdown",
      "source": [
        "3. What is the purpose of the finally block in exception handling?\n",
        "\n",
        "--> To execute cleanup code no matter what happens—whether an exception occurs or not."
      ],
      "metadata": {
        "id": "LClWD1tkl44A"
      }
    },
    {
      "cell_type": "markdown",
      "source": [
        "4. What is logging in Python?\n",
        "\n",
        "--> A way to record messages about program execution (info, warnings, errors).\n",
        "It helps with debugging and monitoring."
      ],
      "metadata": {
        "id": "Lwf7OY34l4zo"
      }
    },
    {
      "cell_type": "markdown",
      "source": [
        " 5. What is the significance of the __del__ method in Python?\n",
        "\n",
        "--> __del__ is called when an object is about to be destroyed (garbage collected).\n",
        "It’s often used to release external resources."
      ],
      "metadata": {
        "id": "V9CONhHtl4uD"
      }
    },
    {
      "cell_type": "markdown",
      "source": [
        "6. What is the difference between import and from ... import?\n",
        "\n",
        "--> import module: Imports the whole module.\n",
        "\n",
        "import math\n",
        "math.sqrt(4)\n",
        "from module import name: Imports a specific attribute/function.\n",
        "\n",
        "from math import sqrt\n",
        "sqrt(4)\n"
      ],
      "metadata": {
        "id": "CEhvTvSWl4mo"
      }
    },
    {
      "cell_type": "markdown",
      "source": [
        " 7. How can you handle multiple exceptions in Python?\n",
        "\n",
        " --> Multiple except blocks:\n",
        "\n",
        "python\n",
        "Copy\n",
        "Edit\n",
        "try:\n",
        "    # code\n",
        "except ValueError:\n",
        "    # handle ValueError\n",
        "except TypeError:\n",
        "    # handle TypeError\n",
        "Single except with tuple:\n",
        "\n",
        "python\n",
        "Copy\n",
        "Edit\n",
        "try:\n",
        "    # code\n",
        "except (ValueError, TypeError):\n",
        "    # handle both\n"
      ],
      "metadata": {
        "id": "VSF3Xt7Bl4iG"
      }
    },
    {
      "cell_type": "markdown",
      "source": [
        "8. What is the purpose of the with statement when handling files?\n",
        "\n",
        "--> It automatically handles opening and closing files, even if exceptions occur."
      ],
      "metadata": {
        "id": "JaJLlId0l4d5"
      }
    },
    {
      "cell_type": "markdown",
      "source": [
        "9. What is the difference between multithreading and multiprocessing?\n",
        "\n",
        "--> Multithreading: Multiple threads share the same memory space; good for I/O-bound tasks.\n",
        "\n",
        "--> Multiprocessing: Multiple processes have separate memory spaces; good for CPU-bound tasks.\n",
        "\n"
      ],
      "metadata": {
        "id": "V-JLSyX4l4Y0"
      }
    },
    {
      "cell_type": "markdown",
      "source": [
        "10. What are the advantages of using logging in a program?\n",
        "\n",
        "--> Helps track events and errors\n",
        "\n",
        "--> Supports different log levels (info, warning, error)\n",
        "\n",
        "--> Can write logs to files or other outputs\n",
        "\n",
        "--> Aids in debugging and maintenance\n",
        "\n"
      ],
      "metadata": {
        "id": "JCVWiPm5l4TR"
      }
    },
    {
      "cell_type": "markdown",
      "source": [
        " 11. What is memory management in Python?\n",
        "\n",
        "--> Python manages memory using:\n",
        "Reference counting\n",
        "Garbage collection\n",
        "It automatically allocates and releases memory for objects."
      ],
      "metadata": {
        "id": "R7dkrp4Vl4P_"
      }
    },
    {
      "cell_type": "markdown",
      "source": [
        "12. What are the basic steps involved in exception handling in Python?\n",
        "\n",
        "--> try: Wrap code that might cause exceptions.\n",
        "\n",
        "--> except: Catch and handle specific exceptions.\n",
        "\n",
        "--> else (optional): Run if no exception occurs.\n",
        "\n",
        "--> finally (optional): Always run cleanup code."
      ],
      "metadata": {
        "id": "oj4-141Zl4Lk"
      }
    },
    {
      "cell_type": "markdown",
      "source": [
        "13. Why is memory management important in Python?\n",
        "\n",
        "--> Prevents memory leaks\n",
        "\n",
        "Ensures efficient use of resources\n",
        "\n",
        "Keeps applications fast and stable"
      ],
      "metadata": {
        "id": "yIWbq_Vyl4E6"
      }
    },
    {
      "cell_type": "markdown",
      "source": [
        " 14. What is the role of try and except in exception handling?\n",
        "\n",
        "--> try: Wrap code that might fail.\n",
        "\n",
        "except: Define what to do if an error occurs.\n",
        "\n"
      ],
      "metadata": {
        "id": "d8E5xPfLl4A6"
      }
    },
    {
      "cell_type": "markdown",
      "source": [
        "15. How does Python's garbage collection system work?\n",
        "\n",
        "--> Uses reference counting to track object usage.\n",
        "\n",
        "Cyclic garbage collector detects and removes circular references."
      ],
      "metadata": {
        "id": "eV1JUgNel39S"
      }
    },
    {
      "cell_type": "markdown",
      "source": [
        "16. What is the purpose of the else block in exception handling?\n",
        "\n",
        "--> Runs code only if no exception occurs in the try block.\n"
      ],
      "metadata": {
        "id": "XyJHwY4_l36S"
      }
    },
    {
      "cell_type": "markdown",
      "source": [
        "17. What are the common logging levels in Python?\n",
        "\n",
        "--> From lowest to highest severity:\n",
        "\n",
        "DEBUG\n",
        "\n",
        "INFO\n",
        "\n",
        "WARNING\n",
        "\n",
        "ERROR\n",
        "\n",
        "CRITICAL"
      ],
      "metadata": {
        "id": "4qvArW8Tl32o"
      }
    },
    {
      "cell_type": "markdown",
      "source": [
        " 18. What is the difference between os.fork() and multiprocessing in Python?\n",
        "\n",
        "--> os.fork(): Creates a child process (Unix only) by duplicating the parent.\n",
        "\n",
        "multiprocessing: Cross-platform, higher-level API that manages processes more safely and portably.\n",
        "\n"
      ],
      "metadata": {
        "id": "u8ax3fcRl3ze"
      }
    },
    {
      "cell_type": "markdown",
      "source": [
        "19. What is the importance of closing a file in Python?\n",
        "\n",
        "--> Ensures data is written to disk\n",
        "\n",
        "Frees system resources\n",
        "\n",
        "Prevents data corruption\n",
        "\n"
      ],
      "metadata": {
        "id": "qE5SGNCAl3v4"
      }
    },
    {
      "cell_type": "markdown",
      "source": [
        "20. What is the difference between file.read() and file.readline()?\n",
        "\n",
        "file.read(): Reads entire file content as a string.\n",
        "\n",
        "file.readline(): Reads one line at a time.\n",
        "\n",
        "\n"
      ],
      "metadata": {
        "id": "51dBFHn9l3oz"
      }
    },
    {
      "cell_type": "markdown",
      "source": [
        "21. What is the logging module in Python used for?\n",
        "--> For tracking events during program execution—such as debugging information, errors, and warnings.\n"
      ],
      "metadata": {
        "id": "DdsCoFaCo0fD"
      }
    },
    {
      "cell_type": "markdown",
      "source": [
        "22. What is the os module in Python used for in file handling?\n",
        "-->Provides functions to interact with the operating system, e.g.,\n",
        "File and directory operations (os.remove(), os.rename(), os.path)"
      ],
      "metadata": {
        "id": "eJ5usnlGo0WI"
      }
    },
    {
      "cell_type": "markdown",
      "source": [
        " 23. What are the challenges associated with memory management in Python?\n",
        "\n",
        "--> Circular references\n",
        "\n",
        "Memory leaks in long-running applications\n",
        "\n",
        "Managing large objects efficiently\n",
        "\n"
      ],
      "metadata": {
        "id": "zxxIX500o0NB"
      }
    },
    {
      "cell_type": "markdown",
      "source": [
        " 24. How do you raise an exception manually in Python?\n",
        "\n",
        "--> Use the raise statement:\n"
      ],
      "metadata": {
        "id": "rAWW5rtbl3du"
      }
    },
    {
      "cell_type": "code",
      "execution_count": 5,
      "metadata": {
        "id": "DA4gJe-Jlzgj"
      },
      "outputs": [],
      "source": [
        "#raise ValueError(\"Invalid input\")\n"
      ]
    },
    {
      "cell_type": "markdown",
      "source": [
        "25. Why is it important to use multithreading in certain applications?\n",
        "\n",
        "--> Improves responsiveness (e.g., GUI apps)\n",
        "\n",
        "Allows concurrent I/O operations\n",
        "\n",
        "Better resource utilization"
      ],
      "metadata": {
        "id": "rmHTJ9zDpWfU"
      }
    },
    {
      "cell_type": "markdown",
      "source": [
        "#Practical Questions"
      ],
      "metadata": {
        "id": "cQR5_g5vq0OJ"
      }
    },
    {
      "cell_type": "markdown",
      "source": [
        "1. How can you open a file for writing in Python and write a string to it?\n"
      ],
      "metadata": {
        "id": "MV4O3OdJriAt"
      }
    },
    {
      "cell_type": "code",
      "source": [
        "with open(\"output.txt\", \"w\") as f:\n",
        "    f.write(\"Hello, world!\")\n"
      ],
      "metadata": {
        "id": "u2t8_ngirh1T"
      },
      "execution_count": 12,
      "outputs": []
    },
    {
      "cell_type": "markdown",
      "source": [
        "2. Write a Python program to read the contents of a file and print each line."
      ],
      "metadata": {
        "id": "zhD4NGEfrhpd"
      }
    },
    {
      "cell_type": "code",
      "source": [
        "with open(\"input.txt\", \"r\") as f:\n",
        "    for line in f:\n",
        "        print(line.strip())"
      ],
      "metadata": {
        "id": "X_b6U6pyrhdL"
      },
      "execution_count": 14,
      "outputs": []
    },
    {
      "cell_type": "markdown",
      "source": [
        "3. How would you handle a case where the file doesn't exist while trying to open it for reading?\n",
        "Use try and except:"
      ],
      "metadata": {
        "id": "SUWMWzhMrgwo"
      }
    },
    {
      "cell_type": "code",
      "source": [
        "try:\n",
        "    with open(\"nonexistent.txt\", \"r\") as f:\n",
        "        data = f.read()\n",
        "except FileNotFoundError:\n",
        "    print(\"File not found.\")\n"
      ],
      "metadata": {
        "id": "zY2_nnRXrgni"
      },
      "execution_count": null,
      "outputs": []
    },
    {
      "cell_type": "markdown",
      "source": [
        "4. Write a Python script that reads from one file and writes its content to another file."
      ],
      "metadata": {
        "id": "IUYcHDqxrgey"
      }
    },
    {
      "cell_type": "code",
      "source": [
        "with open(\"source.txt\", \"r\") as src, open(\"destination.txt\", \"w\") as dest:\n",
        "    dest.write(src.read())\n"
      ],
      "metadata": {
        "id": "oJroFhALrgV3"
      },
      "execution_count": null,
      "outputs": []
    },
    {
      "cell_type": "markdown",
      "source": [
        "5. How would you catch and handle division by zero error in Python?"
      ],
      "metadata": {
        "id": "E8E-ED9prgNQ"
      }
    },
    {
      "cell_type": "code",
      "source": [
        "try:\n",
        "    result = 10 / 0\n",
        "except ZeroDivisionError:\n",
        "    print(\"Cannot divide by zero.\")"
      ],
      "metadata": {
        "id": "BpSUlObmrgET"
      },
      "execution_count": null,
      "outputs": []
    },
    {
      "cell_type": "markdown",
      "source": [
        "6. Write a Python program that logs an error message to a log file when a division by zero exception occurs.\n",
        "\n"
      ],
      "metadata": {
        "id": "4DF-AE77rf7l"
      }
    },
    {
      "cell_type": "code",
      "source": [
        "import logging\n",
        "\n",
        "logging.basicConfig(filename=\"errors.log\", level=logging.ERROR)\n",
        "\n",
        "try:\n",
        "    result = 10 / 0\n",
        "except ZeroDivisionError:\n",
        "    logging.error(\"Division by zero occurred.\", exc_info=True)\n"
      ],
      "metadata": {
        "id": "Uu8h0DnSrfyh"
      },
      "execution_count": null,
      "outputs": []
    },
    {
      "cell_type": "markdown",
      "source": [
        " 7. How do you log information at different levels (INFO, ERROR, WARNING) in Python using the logging module?"
      ],
      "metadata": {
        "id": "qqIXTecTrfov"
      }
    },
    {
      "cell_type": "code",
      "source": [
        "import logging\n",
        "\n",
        "logging.basicConfig(level=logging.DEBUG)\n",
        "\n",
        "logging.info(\"This is an info message.\")\n",
        "logging.warning(\"This is a warning.\")\n",
        "logging.error(\"This is an error.\")\n"
      ],
      "metadata": {
        "id": "CUWsr7yqrfeK"
      },
      "execution_count": null,
      "outputs": []
    },
    {
      "cell_type": "markdown",
      "source": [
        " 8. Write a program to handle a file opening error using exception handling."
      ],
      "metadata": {
        "id": "JBx8QxLwrfUK"
      }
    },
    {
      "cell_type": "code",
      "source": [
        "try:\n",
        "    with open(\"nofile.txt\", \"r\") as f:\n",
        "        content = f.read()\n",
        "except FileNotFoundError:\n",
        "    print(\"The file could not be found.\")\n"
      ],
      "metadata": {
        "id": "fHj6xNrSrfIG"
      },
      "execution_count": null,
      "outputs": []
    },
    {
      "cell_type": "markdown",
      "source": [
        " 9. How can you read a file line by line and store its content in a list in Python?"
      ],
      "metadata": {
        "id": "2CGpPabXsW9L"
      }
    },
    {
      "cell_type": "code",
      "source": [
        "with open(\"input.txt\", \"r\") as f:\n",
        "    lines = [line.strip() for line in f]\n"
      ],
      "metadata": {
        "id": "2SGfs4WSsWou"
      },
      "execution_count": null,
      "outputs": []
    },
    {
      "cell_type": "markdown",
      "source": [
        "10. How can you append data to an existing file in Python?"
      ],
      "metadata": {
        "id": "GhPA2uc_sWe1"
      }
    },
    {
      "cell_type": "code",
      "source": [
        "with open(\"output.txt\", \"a\") as f:\n",
        "    f.write(\"\\nAppended line.\")\n"
      ],
      "metadata": {
        "id": "PPdCv2GysWUr"
      },
      "execution_count": null,
      "outputs": []
    },
    {
      "cell_type": "markdown",
      "source": [
        " 11. Write a Python program that uses a try-except block to handle an error when attempting to access a dictionary key that doesn't exist."
      ],
      "metadata": {
        "id": "GrzPkdAbsV5M"
      }
    },
    {
      "cell_type": "code",
      "source": [
        "my_dict = {\"a\": 1}\n",
        "\n",
        "try:\n",
        "    print(my_dict[\"b\"])\n",
        "except KeyError:\n",
        "    print(\"Key not found in dictionary.\")\n"
      ],
      "metadata": {
        "id": "nU585A88sVxC"
      },
      "execution_count": null,
      "outputs": []
    },
    {
      "cell_type": "markdown",
      "source": [
        " 12. Write a program that demonstrates using multiple except blocks to handle different types of exceptions."
      ],
      "metadata": {
        "id": "NAPmIYoisVpK"
      }
    },
    {
      "cell_type": "code",
      "source": [
        "try:\n",
        "    x = int(\"abc\")\n",
        "    y = 10 / 0\n",
        "except ValueError:\n",
        "    print(\"ValueError: Invalid conversion.\")\n",
        "except ZeroDivisionError:\n",
        "    print(\"ZeroDivisionError: Cannot divide by zero.\")\n"
      ],
      "metadata": {
        "id": "padY0SetsVgZ"
      },
      "execution_count": null,
      "outputs": []
    },
    {
      "cell_type": "markdown",
      "source": [
        "13. How would you check if a file exists before attempting to read it in Python?\n"
      ],
      "metadata": {
        "id": "76Yf4XPAsVXu"
      }
    },
    {
      "cell_type": "code",
      "source": [
        "import os\n",
        "\n",
        "if os.path.exists(\"input.txt\"):\n",
        "    with open(\"input.txt\") as f:\n",
        "        data = f.read()\n",
        "else:\n",
        "    print(\"File does not exist.\")\n"
      ],
      "metadata": {
        "id": "t5KZ1kfKsVOs"
      },
      "execution_count": null,
      "outputs": []
    },
    {
      "cell_type": "markdown",
      "source": [
        "✅ 14. Write a program that uses the logging module to log both informational and error messages.\n"
      ],
      "metadata": {
        "id": "AUtJ7tKZsVEO"
      }
    },
    {
      "cell_type": "code",
      "source": [
        "import logging\n",
        "\n",
        "logging.basicConfig(filename=\"app.log\", level=logging.DEBUG)\n",
        "\n",
        "logging.info(\"Program started.\")\n",
        "try:\n",
        "    1 / 0\n",
        "except ZeroDivisionError:\n",
        "    logging.error(\"Division by zero error.\")\n"
      ],
      "metadata": {
        "id": "MJU-_2vLsU4E"
      },
      "execution_count": null,
      "outputs": []
    },
    {
      "cell_type": "markdown",
      "source": [
        " 15. Write a Python program that prints the content of a file and handles the case when the file is empty."
      ],
      "metadata": {
        "id": "0OEFCf07s95V"
      }
    },
    {
      "cell_type": "code",
      "source": [
        "filename = \"input.txt\"\n",
        "\n",
        "try:\n",
        "    with open(filename, \"r\") as f:\n",
        "        content = f.read()\n",
        "        if not content:\n",
        "            print(\"The file is empty.\")\n",
        "        else:\n",
        "            print(content)\n",
        "except FileNotFoundError:\n",
        "    print(\"File not found.\")\n"
      ],
      "metadata": {
        "id": "nrNIlDHps9rV"
      },
      "execution_count": null,
      "outputs": []
    },
    {
      "cell_type": "markdown",
      "source": [
        "16. Demonstrate how to use memory profiling to check the memory usage of a small program.\n",
        "You can use the memory_profiler module. Install it first:"
      ],
      "metadata": {
        "id": "PYhtNu7is9dg"
      }
    },
    {
      "cell_type": "code",
      "source": [
        "pip install memory_profiler\n",
        "from memory_profiler import profile\n",
        "\n",
        "@profile\n",
        "def my_func():\n",
        "    a = [i for i in range(100000)]\n",
        "    return sum(a)\n",
        "\n",
        "if __name__ == \"__main__\":\n",
        "    my_func()\n",
        "python -m memory_profiler script.py\n"
      ],
      "metadata": {
        "id": "5HrtygvJs9FI"
      },
      "execution_count": null,
      "outputs": []
    },
    {
      "cell_type": "markdown",
      "source": [
        "17. Write a Python program to create and write a list of numbers to a file, one number per line."
      ],
      "metadata": {
        "id": "OddWhYvPs83j"
      }
    },
    {
      "cell_type": "code",
      "source": [
        "numbers = [1, 2, 3, 4, 5]\n",
        "\n",
        "with open(\"numbers.txt\", \"w\") as f:\n",
        "    for num in numbers:\n",
        "        f.write(f\"{num}\\n\")\n"
      ],
      "metadata": {
        "id": "TydT2NrFs8p1"
      },
      "execution_count": null,
      "outputs": []
    },
    {
      "cell_type": "markdown",
      "source": [
        " 18. How would you implement a basic logging setup that logs to a file with rotation after 1MB?\n",
        "Use RotatingFileHandler:"
      ],
      "metadata": {
        "id": "sPv6a6Gss8cg"
      }
    },
    {
      "cell_type": "code",
      "source": [
        "import logging\n",
        "from logging.handlers import RotatingFileHandler\n",
        "\n",
        "handler = RotatingFileHandler(\"rotating.log\", maxBytes=1_000_000, backupCount=3)\n",
        "logging.basicConfig(handlers=[handler], level=logging.INFO)\n",
        "\n",
        "logging.info(\"This is a test log message.\")\n"
      ],
      "metadata": {
        "id": "wuSxgVqvs8OK"
      },
      "execution_count": null,
      "outputs": []
    },
    {
      "cell_type": "markdown",
      "source": [
        "19. Write a program that handles both IndexError and KeyError using a try-except block."
      ],
      "metadata": {
        "id": "Eu0mXCt2s8A1"
      }
    },
    {
      "cell_type": "code",
      "source": [
        "my_list = [1, 2]\n",
        "my_dict = {\"a\": 10}\n",
        "\n",
        "try:\n",
        "    print(my_list[5])\n",
        "    print(my_dict[\"b\"])\n",
        "except IndexError:\n",
        "    print(\"IndexError: List index out of range.\")\n",
        "except KeyError:\n",
        "    print(\"KeyError: Dictionary key not found.\")\n"
      ],
      "metadata": {
        "id": "5Nwr5E2cs7yi"
      },
      "execution_count": null,
      "outputs": []
    },
    {
      "cell_type": "markdown",
      "source": [
        " 20. How would you open a file and read its contents using a context manager in Python?"
      ],
      "metadata": {
        "id": "vnZXSA-gs7lU"
      }
    },
    {
      "cell_type": "code",
      "source": [
        "with open(\"input.txt\", \"r\") as f:\n",
        "    data = f.read()\n",
        "    print(data)\n"
      ],
      "metadata": {
        "id": "_R5qD-YBs7Wa"
      },
      "execution_count": null,
      "outputs": []
    },
    {
      "cell_type": "markdown",
      "source": [
        " 21. Write a Python program that reads a file and prints the number of occurrences of a specific word."
      ],
      "metadata": {
        "id": "n_fv1B5MtjfM"
      }
    },
    {
      "cell_type": "code",
      "source": [
        "word_to_count = \"Python\"\n",
        "\n",
        "with open(\"input.txt\", \"r\") as f:\n",
        "    content = f.read()\n",
        "\n",
        "count = content.count(word_to_count)\n",
        "print(f\"The word '{word_to_count}' occurs {count} times.\")\n"
      ],
      "metadata": {
        "id": "29x7sPSetjQE"
      },
      "execution_count": null,
      "outputs": []
    },
    {
      "cell_type": "markdown",
      "source": [
        "22. How can you check if a file is empty before attempting to read its contents?"
      ],
      "metadata": {
        "id": "7D7INJrZtjAS"
      }
    },
    {
      "cell_type": "code",
      "source": [
        "import os\n",
        "\n",
        "if os.path.exists(\"input.txt\") and os.path.getsize(\"input.txt\") > 0:\n",
        "    with open(\"input.txt\") as f:\n",
        "        print(f.read())\n",
        "else:\n",
        "    print(\"File does not exist or is empty.\")\n"
      ],
      "metadata": {
        "id": "Qjv84yNhtix7"
      },
      "execution_count": null,
      "outputs": []
    },
    {
      "cell_type": "markdown",
      "source": [
        " 23. Write a Python program that writes to a log file when an error occurs during file handling."
      ],
      "metadata": {
        "id": "H1Ne6WXJtiie"
      }
    },
    {
      "cell_type": "code",
      "source": [
        "import logging\n",
        "\n",
        "logging.basicConfig(filename=\"file_errors.log\", level=logging.ERROR)\n",
        "\n",
        "try:\n",
        "    with open(\"nofile.txt\", \"r\") as f:\n",
        "        data = f.read()\n",
        "except Exception as e:\n",
        "    logging.error(\"Error handling file: %s\", e)\n"
      ],
      "metadata": {
        "id": "4IZwup-btiNC"
      },
      "execution_count": null,
      "outputs": []
    }
  ]
}